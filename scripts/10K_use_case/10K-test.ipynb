{
 "cells": [
  {
   "cell_type": "markdown",
   "id": "e8974124-3b58-49fc-a917-18d074319930",
   "metadata": {},
   "source": [
    "# Test the Environment"
   ]
  },
  {
   "cell_type": "code",
   "execution_count": 2,
   "id": "ac128b56-8336-4d87-a8b7-6e16bf864821",
   "metadata": {},
   "outputs": [
    {
     "name": "stdout",
     "output_type": "stream",
     "text": [
      "/kellogg/software/envs/llm-test-env/bin/python\n"
     ]
    }
   ],
   "source": [
    "import sys\n",
    "print(sys.executable)"
   ]
  },
  {
   "cell_type": "code",
   "execution_count": 3,
   "id": "63dabb6d-7b30-459c-be6d-e17116cb955a",
   "metadata": {},
   "outputs": [
    {
     "name": "stdout",
     "output_type": "stream",
     "text": [
      "True\n"
     ]
    }
   ],
   "source": [
    "import torch\n",
    "print(torch.cuda.is_available())"
   ]
  },
  {
   "cell_type": "markdown",
   "id": "fa908e2b-d6bf-4ecb-ae67-15c791eb54fe",
   "metadata": {},
   "source": [
    "# Load and Clean 10-K documents"
   ]
  },
  {
   "cell_type": "code",
   "execution_count": 4,
   "id": "b02e4b86-2215-4134-9bf0-7676260b4380",
   "metadata": {},
   "outputs": [],
   "source": [
    "from datasets import Dataset\n",
    "from pathlib import Path\n",
    "import re"
   ]
  },
  {
   "cell_type": "code",
   "execution_count": 5,
   "id": "ba8a67a4-f69f-42e9-9f4e-fb7290bef1a6",
   "metadata": {},
   "outputs": [],
   "source": [
    "def clean_html(html):\n",
    "    # First we remove inline JavaScript/CSS:\n",
    "    cleaned = re.sub(r\"(?is)<(script|style).*?>.*?(</\\1>)\", \"\", html.strip())\n",
    "    \n",
    "    # Then we remove html comments. This has to be done before removing regular\n",
    "    # tags since comments can contain '>' characters.\n",
    "    cleaned = re.sub(r\"(?s)<!--(.*?)-->[\\n]?\", \"\", cleaned)\n",
    "    \n",
    "    # Next we can remove the remaining tags:\n",
    "    cleaned = re.sub(r\"(?s)<.*?>\", \" \", cleaned)\n",
    "    \n",
    "    # Finally, we deal with whitespace\n",
    "    cleaned = re.sub(r\"&nbsp;\", \" \", cleaned)\n",
    "    cleaned = re.sub(r\"  \", \" \", cleaned)\n",
    "    cleaned = re.sub(r\"  \", \" \", cleaned)\n",
    "    return cleaned.strip()"
   ]
  },
  {
   "cell_type": "code",
   "execution_count": 6,
   "id": "772d99ac-79b2-463f-b9c7-61e6ddd1d7f6",
   "metadata": {},
   "outputs": [],
   "source": [
    "def extract_mda(text):\n",
    "    mda_text = None\n",
    "    \n",
    "    # obtain the second occurrence of \"Discussion and Analysis of Financial Condition\" with wildcards\n",
    "    pattern = r\"Discussion[\\s,.-]*and[\\s,.-]*Analysis[\\s,.-]*of[\\s,.-]*Financial[\\s,.-]*Condition\"\n",
    "    mda_matches = list(re.finditer(pattern, text, re.IGNORECASE))\n",
    "    if len(mda_matches) >= 2:\n",
    "        m = mda_matches[1]\n",
    "        mda_text = text[m.end():]\n",
    "        return \" \".join(mda_text.split()[:250])\n",
    "    return mda_text"
   ]
  },
  {
   "cell_type": "code",
   "execution_count": 7,
   "id": "b6192496-400b-4651-abec-3026ec8e0ebc",
   "metadata": {},
   "outputs": [
    {
     "name": "stdout",
     "output_type": "stream",
     "text": [
      "processing: 1000045_2_0000950170-23-030037.txt\n",
      "processing: 1000209_1_0000950170-23-007273.txt\n",
      "processing: 1000228_1_0001000228-23-000011.txt\n",
      "processing: 1000229_1_0000950170-23-002412.txt\n",
      "processing: 1000230_4_0001437749-23-034978.txt\n",
      "processing: 1000298_1_0001558370-23-004051.txt\n",
      "processing: 1000623_1_0001000623-23-000021.txt\n",
      "processing: 1000683_2_0001213900-23-030312.txt\n",
      "processing: 1000694_1_0001000694-23-000005.txt\n",
      "processing: 1000697_1_0001193125-23-050827.txt\n"
     ]
    }
   ],
   "source": [
    "path = Path(\"/kellogg/data/EDGAR/10-K/2023\")\n",
    "docs = list(path.glob(\"*.txt\"))\n",
    "docs.sort()\n",
    "\n",
    "data_dict = {'doc': [], 'text': []}\n",
    "for d in docs[:10]:\n",
    "    print(f\"processing: {d.name}\")\n",
    "    text = clean_html(d.read_text())\n",
    "    mda_text = extract_mda(text)\n",
    "    data_dict['doc'].append(d.name)\n",
    "    data_dict['text'].append(mda_text)\n",
    "\n",
    "dataset_10k = Dataset.from_dict(data_dict)"
   ]
  },
  {
   "cell_type": "markdown",
   "id": "e0d66a4b-65fb-4dc6-818b-17df1482542f",
   "metadata": {},
   "source": [
    "# Load Summarization Pipeline"
   ]
  },
  {
   "cell_type": "code",
   "execution_count": 8,
   "id": "db78dabf-f0c9-4d6c-9635-215974fb7775",
   "metadata": {},
   "outputs": [],
   "source": [
    "import os\n",
    "os.environ['HF_HOME'] = \"/projects/kellogg/.cache\""
   ]
  },
  {
   "cell_type": "code",
   "execution_count": 9,
   "id": "db58d4fb-f03d-4da7-88d7-491c70ea60a2",
   "metadata": {},
   "outputs": [
    {
     "name": "stdout",
     "output_type": "stream",
     "text": [
      "Token has not been saved to git credential helper. Pass `add_to_git_credential=True` if you want to set the git credential as well.\n",
      "Token is valid (permission: write).\n",
      "Your token has been saved to /tmp/wkt406-jupyter//xdg_cache_home/huggingface/token\n",
      "Login successful\n"
     ]
    }
   ],
   "source": [
    "import huggingface_hub as hub\n",
    "\n",
    "from dotenv import dotenv_values\n",
    "config = dotenv_values(\"/home/wkt406/.env\")\n",
    "hub.login(token=config[\"HUGGINGFACE_TOKEN\"])"
   ]
  },
  {
   "cell_type": "code",
   "execution_count": 10,
   "id": "34a0872b-5e1d-4d03-a73d-ab86f8018ab0",
   "metadata": {},
   "outputs": [],
   "source": [
    "from transformers import pipeline\n",
    "\n",
    "summarizer = pipeline(\"summarization\", model=\"Falconsai/text_summarization\")"
   ]
  },
  {
   "cell_type": "markdown",
   "id": "7528748c-93e9-44da-be08-2c4691fc82f4",
   "metadata": {},
   "source": [
    "# Process Dataset"
   ]
  },
  {
   "cell_type": "code",
   "execution_count": 11,
   "id": "08d8e9f9-b435-4dab-a148-fc5d1ce4283e",
   "metadata": {},
   "outputs": [
    {
     "data": {
      "application/vnd.jupyter.widget-view+json": {
       "model_id": "1ed5b42db1a54682a6836e6f28abe4c2",
       "version_major": 2,
       "version_minor": 0
      },
      "text/plain": [
       "Map:   0%|          | 0/10 [00:00<?, ? examples/s]"
      ]
     },
     "metadata": {},
     "output_type": "display_data"
    }
   ],
   "source": [
    "dataset_10k = dataset_10k.map(\n",
    "    lambda batch: {\"summary\": \n",
    "                   summarizer(batch['text'], \n",
    "                              max_length=50, \n",
    "                              min_length=30, \n",
    "                              do_sample=False,\n",
    "                              truncation=True,\n",
    "                             )\n",
    "                  }, \n",
    "    batched=True,\n",
    ")"
   ]
  },
  {
   "cell_type": "code",
   "execution_count": 12,
   "id": "1faa8ab5-e198-4e5c-868c-42802b6fdea4",
   "metadata": {},
   "outputs": [
    {
     "data": {
      "text/plain": [
       "'and Results of Operations.&#x201d; &#160; In addition, the spread of COVID-19 has caused us to modify our business practices (including restricting employee travel, developing social distancing plans for our employees and cancelling physical participation in meetings, events and conferences), and we may take further actions as may be required by government authorities or as we determine is in the best interests of our employees, partners and customers. The outbreak has adversely impacted and may further adversely impact our workforce and operations and the operations of our partners, customers, suppliers and third-party vendors, throughout the time period during which the spread of COVID-19 continues and related restrictions remain in place, and even after the COVID-19 outbreak has subsided. &#160; Even after the COVID-19 outbreak has subsided and despite the formal declaration of the end of the COVID-19 global health emergency by the World Health Organization in May 2023, our business may continue to experience materially adverse impacts as a result of the virus&#x2019;s economic impact, including the availability and cost of funding and any recession that has occurred or may occur in the future. There are no comparable recent events that provide guidance as to the effect COVID-19 as a global pandemic may have, and, as a result, the ultimate impact of the outbreak is highly uncertain and subject to change. &#160; Additionally, many of the other risk factors described below are heightened by the effects of the COVID-19 pandemic and related economic conditions, which in turn could materially adversely affect'"
      ]
     },
     "execution_count": 12,
     "metadata": {},
     "output_type": "execute_result"
    }
   ],
   "source": [
    "dataset_10k.to_dict()['text'][0]"
   ]
  },
  {
   "cell_type": "code",
   "execution_count": 13,
   "id": "1b96f12f-5a08-41e6-b41f-e0de4cfa3534",
   "metadata": {},
   "outputs": [
    {
     "data": {
      "text/plain": [
       "{'summary_text': 'the spread of COVID-19 has caused us to modify our business practices . The outbreak has adversely impacted and may further adversely impact our workforce and operations and the operations of our partners, customers, suppliers and third-party vendors'}"
      ]
     },
     "execution_count": 13,
     "metadata": {},
     "output_type": "execute_result"
    }
   ],
   "source": [
    "dataset_10k.to_dict()['summary'][0]"
   ]
  },
  {
   "cell_type": "code",
   "execution_count": null,
   "id": "9635f330-8f8c-4a7a-86e0-565136439fdd",
   "metadata": {},
   "outputs": [],
   "source": []
  }
 ],
 "metadata": {
  "kernelspec": {
   "display_name": "LLM Test Env",
   "language": "python",
   "name": "llm-test-env"
  },
  "language_info": {
   "codemirror_mode": {
    "name": "ipython",
    "version": 3
   },
   "file_extension": ".py",
   "mimetype": "text/x-python",
   "name": "python",
   "nbconvert_exporter": "python",
   "pygments_lexer": "ipython3",
   "version": "3.11.8"
  }
 },
 "nbformat": 4,
 "nbformat_minor": 5
}
