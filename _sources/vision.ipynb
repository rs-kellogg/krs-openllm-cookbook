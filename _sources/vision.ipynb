{
 "cells": [
  {
   "cell_type": "markdown",
   "metadata": {},
   "source": [
    "### <font color='purple'>__Process Images with bakllava__</font>"
   ]
  },
  {
   "cell_type": "markdown",
   "metadata": {},
   "source": [
    "#### <font color='purple'>Run bakllava model with transformers</font>  \n",
    "Here is some sample code that uses the bakllava model: "
   ]
  },
  {
   "cell_type": "code",
   "execution_count": null,
   "metadata": {},
   "outputs": [],
   "source": [
    "import requests\n",
    "from PIL import Image\n",
    "\n",
    "import torch\n",
    "from transformers import AutoProcessor, LlavaForConditionalGeneration\n",
    "\n",
    "# https://huggingface.co/llava-hf/bakLlava-v1-hf\n",
    "llm_model = \"llava-hf/bakLlava-v1-hf\"\n",
    "llm_dir = \"/kellogg/data/llm_models_opensource/bakLlava\"\n",
    "\n",
    "prompt = \"USER: <image>\\nYou are a new mom aged between 25 and 30 taking a marketing survey. Can you describe in details how the diaper packaging appeal to you?\\nASSISTANT:\"\n",
    "image_file = \"https://i5.walmartimages.com/seo/Baby-Diapers-Newborn-Size-0-10-lb-120-Count-Pampers-Swaddlers-ONEMONTH-SUPPLY-Packaging-May-Vary_95ea2d1c-769a-4ec2-8da8-7e6ea4829e55.3c890f8095b5b30ae263c996151f9575.jpeg\"\n",
    "\n",
    "model = LlavaForConditionalGeneration.from_pretrained(\n",
    "    llm_model, \n",
    "    torch_dtype=torch.float16, \n",
    "    low_cpu_mem_usage=True, \n",
    "    cache_dir=llm_dir,\n",
    ").to(0)\n",
    "\n",
    "processor = AutoProcessor.from_pretrained(llm_model)\n",
    "\n",
    "raw_image = Image.open(requests.get(image_file, stream=True).raw)\n",
    "inputs = processor(prompt, raw_image, return_tensors='pt').to(0, torch.float16)\n",
    "\n",
    "output = model.generate(**inputs, max_new_tokens=400, do_sample=False)\n",
    "print(processor.decode(output[0][2:], skip_special_tokens=True))\n"
   ]
  },
  {
   "cell_type": "markdown",
   "metadata": {},
   "source": [
    "Output:   \n",
    "```\n",
    "Loading checkpoint shards:   0%|          | 0/4 [00:00<?, ?it/s]\n",
    "Loading checkpoint shards:  25%|██▌       | 1/4 [00:00<00:01,  1.61it/s]\n",
    "Loading checkpoint shards:  75%|███████▌  | 3/4 [00:00<00:00,  4.81it/s]\n",
    "Loading checkpoint shards: 100%|██████████| 4/4 [00:00<00:00,  5.02it/s]\n",
    "Special tokens have been added in the vocabulary, make sure the associated word embeddings are fine-tuned or trained.\n",
    "ER:  \n",
    "You are a new mom aged between 25 and 30 taking a marketing survey. Can you describe in details how the diaper packaging appeal to you?\n",
    "ASSISTANT: The diaper packaging appeals to me as it features a heartwarming image of a parent holding a newborn baby, which evokes feelings of love, care, and the joy of parenthood. The baby is shown resting comfortably in a padded swaddler, which provides a sense of security and warmth for the infant. The swaddler also helps soothe colicky babies, ensuring better sleep for both the baby and the parents. The image on the packaging connects with new parents like me, as it represents the tender moments we experience with our newborns, and it makes me feel that the diaper brand understands the importance of bonding and comfort during this special time in our lives.\n",
    "```\n"
   ]
  },
  {
   "cell_type": "markdown",
   "metadata": {},
   "source": [
    "Here is a sample slurm script for runnning the above python code."
   ]
  },
  {
   "cell_type": "code",
   "execution_count": null,
   "metadata": {},
   "outputs": [],
   "source": [
    "#!/bin/bash\n",
    "\n",
    "#SBATCH -A your_quest_allocation_account\n",
    "#SBATCH -p gengpu\n",
    "#SBATCH --gres=gpu:a100:1\n",
    "#SBATCH -N 1\n",
    "#SBATCH -n 1\n",
    "#SBATCH -t 0:30:00\n",
    "#SBATCH --mem=40G\n",
    "\n",
    "module purge\n",
    "module load mamba/23.1.0\n",
    "source /hpc/software/mamba/23.1.0/etc/profile.d/conda.sh\n",
    "source activate /kellogg/software/envs/gpu-llama2\n",
    "\n",
    "python test_bakllava.py"
   ]
  },
  {
   "cell_type": "markdown",
   "metadata": {},
   "source": [
    "#### <font color='purple'>Run bakllava model with llama_cpp_python</font>  \n",
    "Here is some sample code that uses the bakllava model: "
   ]
  },
  {
   "cell_type": "code",
   "execution_count": null,
   "metadata": {},
   "outputs": [],
   "source": [
    "from llm_core.llm import LLaVACPPModel\n",
    "\n",
    "model = \"BakLLaVA-1-Q4_K_M.gguf\"\n",
    "\n",
    "llm = LLaVACPPModel(\n",
    "    name=model,\n",
    "    llama_cpp_kwargs={\n",
    "        \"logits_all\": True,\n",
    "        \"n_ctx\": 8000,\n",
    "        \"verbose\": False,\n",
    "        \"n_gpu_layers\": 1,  #: Set to 0 if you don't have a GPU\n",
    "        \"n_threads\": 8,       #: Set to the number of available CPU cores\n",
    "        \"clip_model_path\": \"BakLLaVA-1-clip-model.gguf\"\n",
    "    }\n",
    ")\n",
    "\n",
    "llm.load_model()\n",
    "\n",
    "history = [\n",
    "    {\n",
    "        'role': 'user',\n",
    "        'content': [\n",
    "            {'type': 'image_url', 'image_url': 'https://advanced-stack.com/assets/img/mappemonde.jpg'}\n",
    "        ]\n",
    "    }\n",
    "]\n",
    "\n",
    "response = llm.ask('Describe the image as accurately as possible', history=history)\n",
    "\n",
    "print(response.choices[0].message.content)"
   ]
  },
  {
   "cell_type": "markdown",
   "metadata": {},
   "source": [
    "Please save the bakllava models and this file to your home directory. You can run this file with the following SLURM script."
   ]
  },
  {
   "cell_type": "code",
   "execution_count": null,
   "metadata": {
    "vscode": {
     "languageId": "shellscript"
    }
   },
   "outputs": [],
   "source": [
    "#!/bin/bash\n",
    "\n",
    "#SBATCH -A your_quest_allocation_account\n",
    "#SBATCH -p gengpu\n",
    "#SBATCH --gres=gpu:a100:1\n",
    "#SBATCH -N 1\n",
    "#SBATCH -n 1\n",
    "#SBATCH -t 0:30:00\n",
    "#SBATCH --mem=40G\n",
    "\n",
    "module purge\n",
    "module use modulefiles\n",
    "module load llama_cpp/2.38\n",
    "python3 image_test.py\n"
   ]
  }
 ],
 "metadata": {
  "language_info": {
   "name": "python"
  }
 },
 "nbformat": 4,
 "nbformat_minor": 2
}
