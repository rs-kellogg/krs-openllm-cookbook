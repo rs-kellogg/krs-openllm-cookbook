{
 "cells": [
  {
   "cell_type": "markdown",
   "metadata": {},
   "source": [
    "## Example Use Case: 10K Processing\n",
    "\n",
    ":::{admonition} [10-K filings](https://www.investopedia.com/terms/1/10-k.asp)\n",
    ":class: important\n",
    "\n",
    "Our objective: produce summaries of (portions of) 10-K filings\n",
    "\n",
    "```{figure} ./images/10-K-investopedia.png\n",
    "---\n",
    "width: auto\n",
    "name: 10-K-investopedia\n",
    "---\n",
    "```\n",
    ":::"
   ]
  },
  {
   "cell_type": "markdown",
   "metadata": {},
   "source": [
    ":::{note} All 10-K documents are available on KLC (up to 2024)\n",
    "\n",
    "```{figure} ./images/10-K-klc.png\n",
    "---\n",
    "width: 900px\n",
    "name: 10-K-klc\n",
    "---\n",
    "```\n",
    ":::"
   ]
  },
  {
   "cell_type": "markdown",
   "metadata": {},
   "source": [
    ":::{admonition} Find a Model\n",
    "\n",
    "We can search for a summarization model on the [Hugging Face Model Hub](https://huggingface.co/Falconsai/text_summarization)\n",
    "\n",
    "```{figure} ./images/model-hub-summarize.png\n",
    "---\n",
    "width: auto\n",
    "name: model-hub-summarize\n",
    "---\n",
    "```\n",
    ":::"
   ]
  },
  {
   "cell_type": "markdown",
   "metadata": {},
   "source": [
    ":::{admonition} Create a Summarization Pipeline with the Model\n",
    "```python\n",
    "\n",
    "```\n",
    ":::\n",
    "\n",
    ":::{toggle}\n",
    "Surpise!\n",
    ":::\n",
    "\n",
    ":::{toggle}\n",
    "Surpise!\n",
    ":::"
   ]
  }
 ],
 "metadata": {
  "language_info": {
   "name": "python"
  }
 },
 "nbformat": 4,
 "nbformat_minor": 2
}
