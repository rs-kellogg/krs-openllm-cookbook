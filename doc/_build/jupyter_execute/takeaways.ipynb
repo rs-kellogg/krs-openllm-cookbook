{
 "cells": [
  {
   "cell_type": "markdown",
   "metadata": {},
   "source": [
    "# Summary\n",
    "\n",
    ":::{admonition} Project Lifecycle\n",
    ":class: important\n",
    "\n",
    "Kellogg Research Support can help you will all aspects of this lifecycle. Come to us for help during office hours at KGH 5424, or send us an email us at <url><p><a href=\"mailto:rs@kellogg.northwestern.edu\">rs@kellogg.northwestern.edu</a></p>\n",
    "\n",
    ":::"
   ]
  },
  {
   "cell_type": "markdown",
   "metadata": {},
   "source": [
    ":::{admonition} Final Picture\n",
    "\n",
    "```{figure} ./images/end-result.png\n",
    "---\n",
    "width: 900px\n",
    "name: end-result\n",
    "---\n",
    "```\n",
    "\n",
    "Topics Covered in this workshop:\n",
    "\n",
    "- Infrastructure: Quest/KLC\n",
    "- LLM Models: Open Source, Quantization\n",
    "- Information Sources: RAG\n",
    "- LLM Tools: Model Hubs, Hugging Face\n",
    ":::"
   ]
  }
 ],
 "metadata": {
  "language_info": {
   "name": "python"
  }
 },
 "nbformat": 4,
 "nbformat_minor": 2
}