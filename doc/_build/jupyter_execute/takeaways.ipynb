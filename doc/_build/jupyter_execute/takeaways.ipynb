{
 "cells": [
  {
   "cell_type": "markdown",
   "metadata": {},
   "source": [
    "# Summary\n",
    "\n",
    ":::{admonition} Project Lifecycle\n",
    ":class: important\n",
    "\n",
    "Kellogg Research Support can help you will all aspects of this lifecycle. Come to us for help during office hours at KGH 5422, or send us an email us at <url><p><a href=\"mailto:rs@kellogg.northwestern.edu\">rs@kellogg.northwestern.edu</a></p>\n",
    "\n",
    "```{figure} ./images/project-lifecycle-1.png\n",
    "---\n",
    "width: 900px\n",
    "name: project-lifecycle-1\n",
    "---\n",
    "```\n",
    "\n",
    "Topics Covered in this workshop:\n",
    "\n",
    "- Infrastructure: Quest/KLC\n",
    "- LLM Models: Open Source, Quantization\n",
    "- Information Sources: RAG\n",
    "- LLM Tools: Model Hubs, Hugging Face\n",
    ":::"
   ]
  },
  {
   "cell_type": "markdown",
   "metadata": {},
   "source": [
    ":::{admonition} _For the Kellogg Community Only_\n",
    "\n",
    "\n",
    "We are in the process of setting up GPU nodes for exclusive use by the Kellogg research community as part of the [Kellogg Linux Cluster](https://www.kellogg.northwestern.edu/academics-research/research-support/computing/kellogg-linux-cluster.aspx). Accessing these nodes will be identical to accessing GPU nodes on Quest, but will require only a KLC account and not a separate Quest allocation.\n",
    "\n",
    "```{figure} ./images/KLC-announcement.png\n",
    "---\n",
    "width: auto\n",
    "name: KLC-announcment\n",
    "---\n",
    ":::"
   ]
  }
 ],
 "metadata": {
  "language_info": {
   "name": "python"
  }
 },
 "nbformat": 4,
 "nbformat_minor": 2
}