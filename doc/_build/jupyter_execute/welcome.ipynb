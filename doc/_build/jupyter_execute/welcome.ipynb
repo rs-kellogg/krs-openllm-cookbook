{
 "cells": [
  {
   "cell_type": "markdown",
   "metadata": {},
   "source": [
    "# Welcome\n",
    "\n",
    "This is the website for the **Kellogg Research Support Open Source LLM Cookbook**. The book aims to give you the skills you need to work effectively with open source large language models (LLMs) for research. \n",
    "The github repo for scripts can be accessed [here](https://github.com/rs-kellogg/krs-openllm-cookbook)."
   ]
  },
  {
   "cell_type": "markdown",
   "metadata": {},
   "source": [
    "The Jupyter book for our last workshop **OpenAI the Right Way**, which focuses on the OpenAI API, can be found [here](https://rs-kellogg.github.io/krs-llm-cookbook/welcome.html). "
   ]
  }
 ],
 "metadata": {
  "language_info": {
   "name": "python"
  }
 },
 "nbformat": 4,
 "nbformat_minor": 2
}