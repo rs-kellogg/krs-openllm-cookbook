{
 "cells": [
  {
   "cell_type": "markdown",
   "metadata": {},
   "source": [
    "### <font color='purple'>__Process Images with bakllava__</font>"
   ]
  },
  {
   "cell_type": "markdown",
   "metadata": {},
   "source": [
    "Here is some sample code that uses the bakllava model: "
   ]
  },
  {
   "cell_type": "code",
   "execution_count": null,
   "metadata": {},
   "outputs": [],
   "source": [
    "from llm_core.llm import LLaVACPPModel\n",
    "\n",
    "model = \"BakLLaVA-1-Q4_K_M.gguf\"\n",
    "\n",
    "llm = LLaVACPPModel(\n",
    "    name=model,\n",
    "    llama_cpp_kwargs={\n",
    "        \"logits_all\": True,\n",
    "        \"n_ctx\": 8000,\n",
    "        \"verbose\": False,\n",
    "        \"n_gpu_layers\": 1,  #: Set to 0 if you don't have a GPU\n",
    "        \"n_threads\": 8,       #: Set to the number of available CPU cores\n",
    "        \"clip_model_path\": \"BakLLaVA-1-clip-model.gguf\"\n",
    "    }\n",
    ")\n",
    "\n",
    "llm.load_model()\n",
    "\n",
    "history = [\n",
    "    {\n",
    "        'role': 'user',\n",
    "        'content': [\n",
    "            {'type': 'image_url', 'image_url': 'https://advanced-stack.com/assets/img/mappemonde.jpg'}\n",
    "        ]\n",
    "    }\n",
    "]\n",
    "\n",
    "response = llm.ask('Describe the image as accurately as possible', history=history)\n",
    "\n",
    "print(response.choices[0].message.content)"
   ]
  },
  {
   "cell_type": "markdown",
   "metadata": {},
   "source": [
    "Please save the bakllava models and this file to your home directory. You can run this file with the following SLURM script."
   ]
  },
  {
   "cell_type": "code",
   "execution_count": null,
   "metadata": {
    "vscode": {
     "languageId": "shellscript"
    }
   },
   "outputs": [],
   "source": [
    "#!/bin/bash\n",
    "\n",
    "#SBATCH -A your_quest_allocation_account\n",
    "#SBATCH -p gengpu\n",
    "#SBATCH --gres=gpu:a100:1\n",
    "#SBATCH -N 1\n",
    "#SBATCH -n 1\n",
    "#SBATCH -t 0:30:00\n",
    "#SBATCH --mem=40G\n",
    "\n",
    "module purge\n",
    "module use modulefiles\n",
    "module load llama_cpp/2.38\n",
    "python3 image_test.py\n"
   ]
  }
 ],
 "metadata": {
  "language_info": {
   "name": "python"
  }
 },
 "nbformat": 4,
 "nbformat_minor": 2
}