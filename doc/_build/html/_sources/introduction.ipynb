{
 "cells": [
  {
   "cell_type": "markdown",
   "metadata": {},
   "source": [
    "# <font color='purple'>Introduction</font>"
   ]
  },
  {
   "cell_type": "markdown",
   "metadata": {},
   "source": [
    ":::{admonition} Objective\n",
    "The goals of this workshop are to look at best practices with regard to:\n",
    "\n",
    "- <font color='purple'>**Executing**</font> open source LLMs on Quest and the Kellogg Linux Cluster (KLC)\n",
    "- <font color='purple'>**Adapting**</font> models to improve performance by using fine-tuning\n",
    "- <font color='purple'>**Integrating**</font> models with external resources at run-time to improve performance\n",
    ":::"
   ]
  },
  {
   "cell_type": "markdown",
   "metadata": {},
   "source": [
    ":::{card}  Project Lifecycle \n",
    "\n",
    "```{figure} ./images/project-lifecycle-1.png\n",
    "---\n",
    "width: 900px\n",
    "name: gpt-dev-cycle\n",
    "---\n",
    "```\n",
    "(Diagram image from [DeepLearning.AI](https://www.deeplearning.ai/) under the Creative Commons License)\n",
    ":::"
   ]
  },
  {
   "cell_type": "markdown",
   "metadata": {},
   "source": [
    ":::{card}  Define the Use Case\n",
    "\n",
    "```{figure} ./images/project-lifecycle-2.png\n",
    "---\n",
    "width: 900px\n",
    "name: gpt-dev-cycle\n",
    "---\n",
    "```\n",
    ":::"
   ]
  },
  {
   "cell_type": "markdown",
   "metadata": {},
   "source": [
    ":::{card}  Select a Model\n",
    "\n",
    "```{figure} ./images/project-lifecycle-3.png\n",
    "---\n",
    "width: 900px\n",
    "name: gpt-dev-cycle\n",
    "---\n",
    "```\n",
    ":::"
   ]
  },
  {
   "cell_type": "markdown",
   "metadata": {},
   "source": [
    "* Model hubs for downloading models, HF or llama.cpp (etc.) for running models\n",
    "* Model hubs have model cards\n",
    "* Benchmarks and leaderboards"
   ]
  },
  {
   "cell_type": "markdown",
   "metadata": {},
   "source": [
    ":::{card}  Adapt the Model\n",
    "\n",
    "```{figure} ./images/project-lifecycle-4.png\n",
    "---\n",
    "width: 900px\n",
    "name: gpt-dev-cycle\n",
    "---\n",
    "```\n",
    ":::"
   ]
  },
  {
   "cell_type": "markdown",
   "metadata": {},
   "source": [
    ":::{card} Application Integration\n",
    "\n",
    "```{figure} ./images/project-lifecycle-5.png\n",
    "---\n",
    "width: 900px\n",
    "name: gpt-dev-cycle\n",
    "---\n",
    "```\n",
    ":::"
   ]
  },
  {
   "cell_type": "markdown",
   "metadata": {},
   "source": []
  }
 ],
 "metadata": {
  "kernelspec": {
   "display_name": "jb-env",
   "language": "python",
   "name": "python3"
  },
  "language_info": {
   "name": "python",
   "version": "3.11.8"
  }
 },
 "nbformat": 4,
 "nbformat_minor": 2
}
