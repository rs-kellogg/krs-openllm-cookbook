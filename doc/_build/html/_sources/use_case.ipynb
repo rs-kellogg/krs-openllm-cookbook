{
 "cells": [
  {
   "cell_type": "markdown",
   "metadata": {},
   "source": [
    "## <font color='purple'>__Example Use Case__</font>\n",
    "\n",
    "#### <font color='purple'>10K Processing</font>\n",
    "Processing 10K forms, demonstrate reproducibility principle, use transformers"
   ]
  }
 ],
 "metadata": {
  "language_info": {
   "name": "python"
  }
 },
 "nbformat": 4,
 "nbformat_minor": 2
}
