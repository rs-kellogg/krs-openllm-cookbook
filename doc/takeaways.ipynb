{
 "cells": [
  {
   "cell_type": "markdown",
   "metadata": {},
   "source": [
    "# Summary and Takeaways"
   ]
  },
  {
   "cell_type": "markdown",
   "metadata": {},
   "source": [
    ":::{card} \n",
    "\n",
    "\n",
    "```{figure} ./images/project-lifecycle-cheatsheet.png\n",
    "---\n",
    "width: auto\n",
    "name: project-lifecycle-cheatsheet\n",
    "---\n",
    "```\n",
    ":::"
   ]
  }
 ],
 "metadata": {
  "language_info": {
   "name": "python"
  }
 },
 "nbformat": 4,
 "nbformat_minor": 2
}
